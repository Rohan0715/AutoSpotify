{
 "cells": [
  {
   "cell_type": "code",
   "execution_count": 8,
   "id": "8358df0e",
   "metadata": {
    "scrolled": true
   },
   "outputs": [
    {
     "name": "stdout",
     "output_type": "stream",
     "text": [
      "Collecting spotipy\n",
      "  Downloading spotipy-2.24.0-py3-none-any.whl (30 kB)\n",
      "Requirement already satisfied: urllib3>=1.26.0 in c:\\users\\rashi\\anaconda\\lib\\site-packages (from spotipy) (2.2.3)\n",
      "Requirement already satisfied: requests>=2.25.0 in c:\\users\\rashi\\anaconda\\lib\\site-packages (from spotipy) (2.32.3)\n",
      "Collecting redis>=3.5.3\n",
      "  Downloading redis-5.0.8-py3-none-any.whl (255 kB)\n",
      "     -------------------------------------- 255.6/255.6 kB 5.2 MB/s eta 0:00:00\n",
      "Requirement already satisfied: async-timeout>=4.0.3 in c:\\users\\rashi\\anaconda\\lib\\site-packages (from redis>=3.5.3->spotipy) (4.0.3)\n",
      "Requirement already satisfied: charset-normalizer<4,>=2 in c:\\users\\rashi\\anaconda\\lib\\site-packages (from requests>=2.25.0->spotipy) (2.0.4)\n",
      "Requirement already satisfied: certifi>=2017.4.17 in c:\\users\\rashi\\anaconda\\lib\\site-packages (from requests>=2.25.0->spotipy) (2020.6.20)\n",
      "Requirement already satisfied: idna<4,>=2.5 in c:\\users\\rashi\\anaconda\\lib\\site-packages (from requests>=2.25.0->spotipy) (2.10)\n",
      "Installing collected packages: redis, spotipy\n",
      "Successfully installed redis-5.0.8 spotipy-2.24.0\n",
      "Note: you may need to restart the kernel to use updated packages.\n"
     ]
    }
   ],
   "source": [
    "pip install spotipy"
   ]
  },
  {
   "cell_type": "markdown",
   "id": "23275024",
   "metadata": {},
   "source": [
    "## Creating an Connection "
   ]
  },
  {
   "cell_type": "code",
   "execution_count": 8,
   "id": "b107c272",
   "metadata": {},
   "outputs": [
    {
     "name": "stdout",
     "output_type": "stream",
     "text": [
      "Collecting pvporcupine\n",
      "  Downloading pvporcupine-3.0.3-py3-none-any.whl (2.4 MB)\n",
      "     ---------------------------------------- 2.4/2.4 MB 4.7 MB/s eta 0:00:00\n",
      "Installing collected packages: pvporcupine\n",
      "Successfully installed pvporcupine-3.0.3\n",
      "Note: you may need to restart the kernel to use updated packages.\n"
     ]
    }
   ],
   "source": [
    "pip install pvporcupine"
   ]
  },
  {
   "cell_type": "code",
   "execution_count": 15,
   "id": "6fb70937",
   "metadata": {},
   "outputs": [],
   "source": [
    "import spotipy\n",
    "from spotipy.oauth2 import SpotifyOAuth\n",
    "import speech_recognition as sr\n",
    "import pyttsx3\n",
    "import pvporcupine as pv\n",
    "import pyaudio\n",
    "import webbrowser"
   ]
  },
  {
   "cell_type": "code",
   "execution_count": 16,
   "id": "180f1cdf",
   "metadata": {},
   "outputs": [],
   "source": [
    "def sayIt(word):\n",
    "    engine=pyttsx3.init()\n",
    "    engine.say(word)\n",
    "    engine.runAndWait()"
   ]
  },
  {
   "cell_type": "code",
   "execution_count": 17,
   "id": "c102f2a6",
   "metadata": {},
   "outputs": [],
   "source": [
    "Spotify_client=\"37042b0eb5b44a2bb9f0e2cc6e4d5afb\"\n",
    "Spotify_secret_key=\"e9c17340b65f4542af166328ae3463cd\"\n",
    "web=\"http://localhost:8000/notebooks/DATASCIENCE/AutoSpotify.ipynb\"\n",
    "app=spotipy.Spotify(auth_manager=SpotifyOAuth(\n",
    "client_id=Spotify_client,\n",
    "client_secret=Spotify_secret_key,\n",
    "redirect_uri=web,\n",
    "scope=\"user-modify-playback-state user-read-playback-state\"))\n",
    "#the SpotifyOAuth askf or three compalsory parameters one is CLIENT_ID,CLIENT_SECRET Which is an api key\n",
    "#Scope is what type of operation you are going to perform through this connection "
   ]
  },
  {
   "cell_type": "code",
   "execution_count": 18,
   "id": "e9d12dc8",
   "metadata": {},
   "outputs": [],
   "source": [
    "def recognise_command():\n",
    "    recognizer=sr.Recognizer()\n",
    "    with sr.Microphone() as source:\n",
    "        sayIt(\" Engaging systems and scanning environment. Ready for command input\")\n",
    "        audio=recognizer.listen(source)\n",
    "        try:\n",
    "            command=recognizer.recognize_google(audio)\n",
    "            command=command.split(\" \")\n",
    "            song_name=\" \".join(command[1:])\n",
    "            play_song(song_name)\n",
    "        except sr.UnknownValueError:\n",
    "            sayIt(\"Sorry,I am unable to find the Song\")\n",
    "        except sr.RequestError as e:\n",
    "            sauIt(f\"drror:{e}\")"
   ]
  },
  {
   "cell_type": "code",
   "execution_count": 19,
   "id": "3fcca858",
   "metadata": {},
   "outputs": [],
   "source": [
    "def play_song(song_name):\n",
    "    results=app.search(q=f\"track:{song_name}\",type=\"track\",limit=1)\n",
    "    if results[\"tracks\"][\"items\"]:\n",
    "        song_uri=results[\"tracks\"][\"items\"][0][\"uri\"]\n",
    "        track=results[\"tracks\"][\"items\"][0]\n",
    "        sayIt(f\"Playing {track['name']} by {track['artists'][0]['name']}\")\n",
    "        webbrowser.open(song_uri)\n",
    "        #this supports only if i have premium subscription of Spotify\n",
    "        '''devices=app.devices()\n",
    "           if devices[\"devices\"]:\n",
    "            device_id=devices[\"devices\"][0][\"id\"]\n",
    "            app.start_playback(device_id=device_id,uris=[song_uri])\n",
    "        else:\n",
    "            sayIt(\"No active Spotify devices found\")\n",
    "            '''\n",
    "    else:\n",
    "        sayIt(f\"Sond {song_name} not found...\")"
   ]
  },
  {
   "cell_type": "code",
   "execution_count": 20,
   "id": "9521f27a",
   "metadata": {},
   "outputs": [],
   "source": [
    "from datetime import datetime\n",
    "\n",
    "def greet_user():\n",
    "    current_hour = datetime.now().hour\n",
    "\n",
    "    if current_hour < 12:\n",
    "        greeting = \"Good morning\"\n",
    "    elif 12 <= current_hour < 18:\n",
    "        greeting = \"Good afternoon\"\n",
    "    else:\n",
    "        greeting = \"Good evening\"\n",
    "    \n",
    "    sayIt(f\"\\n{greeting} Rohan\")"
   ]
  },
  {
   "cell_type": "code",
   "execution_count": null,
   "id": "0c63fee1",
   "metadata": {
    "scrolled": true
   },
   "outputs": [],
   "source": [
    "if __name__== \"__main__\":\n",
    "    while True:\n",
    "        recognizer=sr.Recognizer()\n",
    "        with sr.Microphone() as source:\n",
    "            recognizer.adjust_for_ambient_noise(source,duration=2)\n",
    "            audio=recognizer.listen(source)\n",
    "            try:\n",
    "                command = recognizer.recognize_google(audio)\n",
    "                if command.lower() == \"awaken white\": \n",
    "                    greet_user()\n",
    "                    sayIt(\"    Activating and intializing Shadow Protocol...\")\n",
    "                    recognise_command()  # Capture the rest of the command\n",
    "                # You can now add more actions based on the `result` if needed\n",
    "            except sr.UnknownValueError:\n",
    "                continue\n",
    "            except sr.RequestError as e:\n",
    "                sayIt(f\"Error: {e}\")"
   ]
  },
  {
   "cell_type": "markdown",
   "id": "518801b4",
   "metadata": {},
   "source": [
    "## MADE BY COPILOT"
   ]
  }
 ],
 "metadata": {
  "kernelspec": {
   "display_name": "Python 3 (ipykernel)",
   "language": "python",
   "name": "python3"
  },
  "language_info": {
   "codemirror_mode": {
    "name": "ipython",
    "version": 3
   },
   "file_extension": ".py",
   "mimetype": "text/x-python",
   "name": "python",
   "nbconvert_exporter": "python",
   "pygments_lexer": "ipython3",
   "version": "3.9.13"
  }
 },
 "nbformat": 4,
 "nbformat_minor": 5
}
